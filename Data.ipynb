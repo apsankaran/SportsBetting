{
 "cells": [
  {
   "cell_type": "markdown",
   "metadata": {},
   "source": [
    "## Data"
   ]
  },
  {
   "cell_type": "code",
   "execution_count": 1,
   "metadata": {},
   "outputs": [],
   "source": [
    "# import statements\n",
    "\n",
    "import os\n",
    "import pandas as pd\n",
    "import numpy as np\n",
    "import time\n",
    "from datetime import date, timedelta, datetime\n",
    "from dateutil.relativedelta import relativedelta\n",
    "\n",
    "import requests\n",
    "from selenium import webdriver\n",
    "from selenium.webdriver.common.keys import Keys\n",
    "from selenium.webdriver.support.select import Select\n",
    "from bs4 import BeautifulSoup"
   ]
  },
  {
   "cell_type": "markdown",
   "metadata": {},
   "source": [
    "### Functions"
   ]
  },
  {
   "cell_type": "code",
   "execution_count": 2,
   "metadata": {},
   "outputs": [],
   "source": [
    "# accepts betting pros cookies\n",
    "\n",
    "def accept_cookies():\n",
    "    \n",
    "    try:\n",
    "        element = driver.find_element(\"id\",\"onetrust-accept-btn-handler\")\n",
    "        driver.execute_script(\"arguments[0].click();\", element);\n",
    "    except:\n",
    "        pass"
   ]
  },
  {
   "cell_type": "code",
   "execution_count": 3,
   "metadata": {},
   "outputs": [],
   "source": [
    "# get all player props for given day \n",
    "\n",
    "def get_props():\n",
    "    \n",
    "    props = {}\n",
    "    \n",
    "    try:\n",
    "        \n",
    "        html = driver.page_source\n",
    "        soup = BeautifulSoup(html, \"html.parser\")\n",
    "    \n",
    "        rows = soup.find_all(\"div\", {\"id\":\"primary-info-container\"})\n",
    "        \n",
    "        for row in rows:        \n",
    "            s = str(row)\n",
    "            soup = BeautifulSoup(s, \"html.parser\")\n",
    "            name = soup.find_all(\"a\", {\"class\":\"pbcs__player-link\"})[0].get_text().strip()\n",
    "            line = float(soup.find_all(\"span\", {\"class\":\"\"})[2].get_text())\n",
    "            props[name] = line\n",
    "            \n",
    "    except:\n",
    "        \n",
    "        pass\n",
    "    \n",
    "    return props"
   ]
  },
  {
   "cell_type": "markdown",
   "metadata": {},
   "source": [
    "### Scraping BettingPros"
   ]
  },
  {
   "cell_type": "code",
   "execution_count": 4,
   "metadata": {},
   "outputs": [],
   "source": [
    "# get all urls for the past year \n",
    "\n",
    "def daterange(start_date, end_date):\n",
    "    for n in range(int((end_date - start_date).days)):\n",
    "        yield start_date + timedelta(n)\n",
    "\n",
    "end_date = date.today()\n",
    "start_date = end_date - relativedelta(months=1) # can change to years=1\n",
    "\n",
    "urls = []\n",
    "for single_date in daterange(start_date, end_date):\n",
    "    url = 'https://www.bettingpros.com/nba/picks/prop-bets/bet/points?date={}'.format(single_date.strftime(\"%Y-%m-%d\"))\n",
    "    urls.append(url)"
   ]
  },
  {
   "cell_type": "code",
   "execution_count": 5,
   "metadata": {},
   "outputs": [
    {
     "name": "stderr",
     "output_type": "stream",
     "text": [
      "<ipython-input-5-759ffe2cae1f>:9: DeprecationWarning: executable_path has been deprecated, please pass in a Service object\n",
      "  driver = webdriver.Chrome(executable_path=path_to_chromedriver)\n"
     ]
    }
   ],
   "source": [
    "betting_df = pd.DataFrame(columns=['Name', 'Line', 'Date'])\n",
    "\n",
    "for url in urls[-2:]:   \n",
    "    \n",
    "    r = requests.get(url)\n",
    "    if r.status_code != 200: print(\"Error Loading\", url)\n",
    "        \n",
    "    path_to_chromedriver = os.getcwd() + \"/chromedriver\"\n",
    "    driver = webdriver.Chrome(executable_path=path_to_chromedriver)\n",
    "        \n",
    "    driver.get(url)\n",
    "    \n",
    "    accept_cookies()\n",
    "    \n",
    "    props = get_props()\n",
    "    \n",
    "    df = pd.DataFrame(props.items(), columns=['Name', 'Line'])\n",
    "    df['Date'] = datetime.strptime(url[-10:], \"%Y-%m-%d\").date()\n",
    "    betting_df = betting_df.append(df, ignore_index=True)\n",
    "    \n",
    "    driver.close()"
   ]
  },
  {
   "cell_type": "markdown",
   "metadata": {},
   "source": [
    "### DataFrame to Google Sheets"
   ]
  },
  {
   "cell_type": "code",
   "execution_count": 7,
   "metadata": {},
   "outputs": [
    {
     "data": {
      "text/html": [
       "<div>\n",
       "<style scoped>\n",
       "    .dataframe tbody tr th:only-of-type {\n",
       "        vertical-align: middle;\n",
       "    }\n",
       "\n",
       "    .dataframe tbody tr th {\n",
       "        vertical-align: top;\n",
       "    }\n",
       "\n",
       "    .dataframe thead th {\n",
       "        text-align: right;\n",
       "    }\n",
       "</style>\n",
       "<table border=\"1\" class=\"dataframe\">\n",
       "  <thead>\n",
       "    <tr style=\"text-align: right;\">\n",
       "      <th></th>\n",
       "      <th>Name</th>\n",
       "      <th>Line</th>\n",
       "      <th>Date</th>\n",
       "    </tr>\n",
       "  </thead>\n",
       "  <tbody>\n",
       "    <tr>\n",
       "      <th>0</th>\n",
       "      <td>Alperen Sengun</td>\n",
       "      <td>9.5</td>\n",
       "      <td>2023-01-28</td>\n",
       "    </tr>\n",
       "    <tr>\n",
       "      <th>1</th>\n",
       "      <td>Jayson Tatum</td>\n",
       "      <td>30.5</td>\n",
       "      <td>2023-01-28</td>\n",
       "    </tr>\n",
       "    <tr>\n",
       "      <th>2</th>\n",
       "      <td>Coby White</td>\n",
       "      <td>7.5</td>\n",
       "      <td>2023-01-28</td>\n",
       "    </tr>\n",
       "    <tr>\n",
       "      <th>3</th>\n",
       "      <td>Malcolm Brogdon</td>\n",
       "      <td>15.5</td>\n",
       "      <td>2023-01-28</td>\n",
       "    </tr>\n",
       "    <tr>\n",
       "      <th>4</th>\n",
       "      <td>Norman Powell</td>\n",
       "      <td>16.5</td>\n",
       "      <td>2023-01-28</td>\n",
       "    </tr>\n",
       "  </tbody>\n",
       "</table>\n",
       "</div>"
      ],
      "text/plain": [
       "              Name  Line        Date\n",
       "0   Alperen Sengun   9.5  2023-01-28\n",
       "1     Jayson Tatum  30.5  2023-01-28\n",
       "2       Coby White   7.5  2023-01-28\n",
       "3  Malcolm Brogdon  15.5  2023-01-28\n",
       "4    Norman Powell  16.5  2023-01-28"
      ]
     },
     "execution_count": 7,
     "metadata": {},
     "output_type": "execute_result"
    }
   ],
   "source": [
    "betting_df.head(5)"
   ]
  }
 ],
 "metadata": {
  "kernelspec": {
   "display_name": "Python 3",
   "language": "python",
   "name": "python3"
  },
  "language_info": {
   "codemirror_mode": {
    "name": "ipython",
    "version": 3
   },
   "file_extension": ".py",
   "mimetype": "text/x-python",
   "name": "python",
   "nbconvert_exporter": "python",
   "pygments_lexer": "ipython3",
   "version": "3.8.5"
  }
 },
 "nbformat": 4,
 "nbformat_minor": 4
}
