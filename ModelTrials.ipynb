{
 "cells": [
  {
   "cell_type": "markdown",
   "metadata": {},
   "source": [
    "## Sports Betting Model"
   ]
  },
  {
   "cell_type": "code",
   "execution_count": 1,
   "metadata": {},
   "outputs": [],
   "source": [
    "# import statements\n",
    "\n",
    "import numpy as np\n",
    "import pandas as pd\n",
    "\n",
    "from sklearn.pipeline import Pipeline\n",
    "from sklearn.preprocessing import StandardScaler\n",
    "from sklearn.model_selection import GridSearchCV\n",
    "from sklearn.linear_model import Lasso\n",
    "\n",
    "from sklearn.neural_network import MLPRegressor\n",
    "from sklearn.linear_model import BayesianRidge\n",
    "from sklearn.kernel_ridge import KernelRidge\n",
    "from sklearn.svm import SVR\n",
    "from sklearn.linear_model import SGDRegressor\n",
    "from sklearn.neighbors import KNeighborsRegressor\n",
    "from sklearn.gaussian_process import GaussianProcessRegressor\n",
    "from sklearn.cross_decomposition import PLSRegression\n",
    "from sklearn.tree import DecisionTreeRegressor\n",
    "\n",
    "from sklearn.neural_network import MLPClassifier\n",
    "from sklearn.svm import SVC\n",
    "from sklearn.linear_model import SGDClassifier\n",
    "from sklearn.neighbors import KNeighborsClassifier\n",
    "from sklearn.neighbors import NearestCentroid\n",
    "from sklearn.gaussian_process import GaussianProcessClassifier\n",
    "from sklearn.tree import DecisionTreeClassifier\n",
    "\n",
    "from sklearn import metrics\n",
    "from sklearn.model_selection import cross_val_score\n",
    "import statistics\n",
    "import scipy.stats\n",
    "from scipy.stats import norm\n",
    "\n",
    "import selenium \n",
    "from bs4 import BeautifulSoup\n",
    "\n",
    "import random\n",
    "import matplotlib.pyplot as plt"
   ]
  },
  {
   "cell_type": "markdown",
   "metadata": {},
   "source": [
    "### Functions"
   ]
  },
  {
   "cell_type": "code",
   "execution_count": 2,
   "metadata": {},
   "outputs": [],
   "source": [
    "# given regression model, returns cross_val_score, r^2 score, mean squared error, and mean absolute error\n",
    "\n",
    "def evaluate_regression_model(model, X_true, y_true):\n",
    "    \n",
    "    model.fit(X_true, y_true)\n",
    "    y_pred = model.predict(X_true)\n",
    "    \n",
    "    # optimal return is 1, 1, 0, 0\n",
    "    cross_val = statistics.mean(cross_val_score(model, X_true, y_true, cv=5))\n",
    "    r2 = metrics.r2_score(y_true, y_pred)\n",
    "    mse = metrics.mean_squared_error(y_true, y_pred) \n",
    "    mae = metrics.mean_absolute_error(y_true, y_pred)\n",
    "    return cross_val, r2, mse, mae"
   ]
  },
  {
   "cell_type": "code",
   "execution_count": 3,
   "metadata": {},
   "outputs": [],
   "source": [
    "# given classification model, returns cross_val_score, accuracy, precision, recall\n",
    "\n",
    "def evaluate_classification_model(model, X_true, y_true):\n",
    "    \n",
    "    model.fit(X_true, y_true)\n",
    "    y_pred = model.predict(X_true)\n",
    "    \n",
    "    # optimal return is 1, 1, 1, 1\n",
    "    cross_val = statistics.mean(cross_val_score(model, X_true, y_true, cv=5))\n",
    "    accuracy = metrics.accuracy_score(y_true, y_pred)\n",
    "    precision = metrics.precision_score(y_true, y_pred) \n",
    "    recall = metrics.recall_score(y_true, y_pred)\n",
    "    return cross_val, accuracy, precision, recall"
   ]
  },
  {
   "cell_type": "code",
   "execution_count": 4,
   "metadata": {},
   "outputs": [],
   "source": [
    "# returns True if bet would have hit and False otherwise\n",
    "\n",
    "def hit(line, prediction, actual):\n",
    "    \n",
    "    if actual < line and prediction < line:\n",
    "        return True\n",
    "    elif actual > line and prediction > line:\n",
    "        return True\n",
    "    else:\n",
    "        return False"
   ]
  },
  {
   "cell_type": "code",
   "execution_count": 5,
   "metadata": {},
   "outputs": [],
   "source": [
    "# returns only selected features of X\n",
    "\n",
    "def select_features(X):\n",
    "    \n",
    "    feature_selection_pipeline = Pipeline([\n",
    "        ('scaler',StandardScaler()),\n",
    "        ('model',Lasso())\n",
    "    ])\n",
    "    \n",
    "    search = GridSearchCV(feature_selection_pipeline,\n",
    "                          {'model__alpha':np.arange(0.1,10,0.1)},\n",
    "                          cv = 5, scoring=\"neg_mean_squared_error\",verbose=0\n",
    "                         )\n",
    "    search.fit(X, y)\n",
    "\n",
    "    coefficients = search.best_estimator_.named_steps['model'].coef_\n",
    "    importance = np.abs(coefficients)\n",
    "    selected_features = np.array(features)[importance > 0]\n",
    "    print(\"Selected:\", selected_features)\n",
    "\n",
    "    unselected_features = np.array(features)[importance == 0]\n",
    "    print(\"Unselected:\", unselected_features)\n",
    "\n",
    "    return X[selected_features]"
   ]
  },
  {
   "cell_type": "code",
   "execution_count": 6,
   "metadata": {},
   "outputs": [],
   "source": [
    "# return probability of OVER given line, estimate, mean_error, and stdev_error\n",
    "\n",
    "def regression_probability(line, estimate, mean_error, stdev_error):\n",
    "    \n",
    "    z_score = ((line-estimate)-mean_error) / stdev_error\n",
    "    return 1-scipy.stats.norm.cdf(z_score) "
   ]
  },
  {
   "cell_type": "markdown",
   "metadata": {},
   "source": [
    "### Load Data"
   ]
  },
  {
   "cell_type": "code",
   "execution_count": 7,
   "metadata": {},
   "outputs": [],
   "source": [
    "# Load Data\n",
    "\n",
    "from sklearn.datasets import fetch_california_housing\n",
    "X, y = fetch_california_housing(return_X_y=True, as_frame=True)"
   ]
  },
  {
   "cell_type": "code",
   "execution_count": 8,
   "metadata": {},
   "outputs": [
    {
     "data": {
      "text/plain": [
       "['MedInc',\n",
       " 'HouseAge',\n",
       " 'AveRooms',\n",
       " 'AveBedrms',\n",
       " 'Population',\n",
       " 'AveOccup',\n",
       " 'Latitude',\n",
       " 'Longitude']"
      ]
     },
     "execution_count": 8,
     "metadata": {},
     "output_type": "execute_result"
    }
   ],
   "source": [
    "features = fetch_california_housing()['feature_names']\n",
    "features"
   ]
  },
  {
   "cell_type": "code",
   "execution_count": 9,
   "metadata": {},
   "outputs": [],
   "source": [
    "# Scale Data\n",
    "\n",
    "X = pd.DataFrame(StandardScaler().fit_transform(X), columns=features)"
   ]
  },
  {
   "cell_type": "code",
   "execution_count": 10,
   "metadata": {
    "scrolled": true
   },
   "outputs": [
    {
     "data": {
      "text/html": [
       "<div>\n",
       "<style scoped>\n",
       "    .dataframe tbody tr th:only-of-type {\n",
       "        vertical-align: middle;\n",
       "    }\n",
       "\n",
       "    .dataframe tbody tr th {\n",
       "        vertical-align: top;\n",
       "    }\n",
       "\n",
       "    .dataframe thead th {\n",
       "        text-align: right;\n",
       "    }\n",
       "</style>\n",
       "<table border=\"1\" class=\"dataframe\">\n",
       "  <thead>\n",
       "    <tr style=\"text-align: right;\">\n",
       "      <th></th>\n",
       "      <th>MedInc</th>\n",
       "      <th>HouseAge</th>\n",
       "      <th>AveRooms</th>\n",
       "      <th>AveBedrms</th>\n",
       "      <th>Population</th>\n",
       "      <th>AveOccup</th>\n",
       "      <th>Latitude</th>\n",
       "      <th>Longitude</th>\n",
       "    </tr>\n",
       "  </thead>\n",
       "  <tbody>\n",
       "    <tr>\n",
       "      <th>0</th>\n",
       "      <td>2.344766</td>\n",
       "      <td>0.982143</td>\n",
       "      <td>0.628559</td>\n",
       "      <td>-0.153758</td>\n",
       "      <td>-0.974429</td>\n",
       "      <td>-0.049597</td>\n",
       "      <td>1.052548</td>\n",
       "      <td>-1.327835</td>\n",
       "    </tr>\n",
       "    <tr>\n",
       "      <th>1</th>\n",
       "      <td>2.332238</td>\n",
       "      <td>-0.607019</td>\n",
       "      <td>0.327041</td>\n",
       "      <td>-0.263336</td>\n",
       "      <td>0.861439</td>\n",
       "      <td>-0.092512</td>\n",
       "      <td>1.043185</td>\n",
       "      <td>-1.322844</td>\n",
       "    </tr>\n",
       "    <tr>\n",
       "      <th>2</th>\n",
       "      <td>1.782699</td>\n",
       "      <td>1.856182</td>\n",
       "      <td>1.155620</td>\n",
       "      <td>-0.049016</td>\n",
       "      <td>-0.820777</td>\n",
       "      <td>-0.025843</td>\n",
       "      <td>1.038503</td>\n",
       "      <td>-1.332827</td>\n",
       "    </tr>\n",
       "    <tr>\n",
       "      <th>3</th>\n",
       "      <td>0.932968</td>\n",
       "      <td>1.856182</td>\n",
       "      <td>0.156966</td>\n",
       "      <td>-0.049833</td>\n",
       "      <td>-0.766028</td>\n",
       "      <td>-0.050329</td>\n",
       "      <td>1.038503</td>\n",
       "      <td>-1.337818</td>\n",
       "    </tr>\n",
       "    <tr>\n",
       "      <th>4</th>\n",
       "      <td>-0.012881</td>\n",
       "      <td>1.856182</td>\n",
       "      <td>0.344711</td>\n",
       "      <td>-0.032906</td>\n",
       "      <td>-0.759847</td>\n",
       "      <td>-0.085616</td>\n",
       "      <td>1.038503</td>\n",
       "      <td>-1.337818</td>\n",
       "    </tr>\n",
       "  </tbody>\n",
       "</table>\n",
       "</div>"
      ],
      "text/plain": [
       "     MedInc  HouseAge  AveRooms  AveBedrms  Population  AveOccup  Latitude  \\\n",
       "0  2.344766  0.982143  0.628559  -0.153758   -0.974429 -0.049597  1.052548   \n",
       "1  2.332238 -0.607019  0.327041  -0.263336    0.861439 -0.092512  1.043185   \n",
       "2  1.782699  1.856182  1.155620  -0.049016   -0.820777 -0.025843  1.038503   \n",
       "3  0.932968  1.856182  0.156966  -0.049833   -0.766028 -0.050329  1.038503   \n",
       "4 -0.012881  1.856182  0.344711  -0.032906   -0.759847 -0.085616  1.038503   \n",
       "\n",
       "   Longitude  \n",
       "0  -1.327835  \n",
       "1  -1.322844  \n",
       "2  -1.332827  \n",
       "3  -1.337818  \n",
       "4  -1.337818  "
      ]
     },
     "execution_count": 10,
     "metadata": {},
     "output_type": "execute_result"
    }
   ],
   "source": [
    "X.head(5)"
   ]
  },
  {
   "cell_type": "code",
   "execution_count": 11,
   "metadata": {},
   "outputs": [
    {
     "data": {
      "text/plain": [
       "0    4.526\n",
       "1    3.585\n",
       "2    3.521\n",
       "3    3.413\n",
       "4    3.422\n",
       "Name: MedHouseVal, dtype: float64"
      ]
     },
     "execution_count": 11,
     "metadata": {},
     "output_type": "execute_result"
    }
   ],
   "source": [
    "y.head(5)"
   ]
  },
  {
   "cell_type": "markdown",
   "metadata": {},
   "source": [
    "### Feature Selection"
   ]
  },
  {
   "cell_type": "code",
   "execution_count": 12,
   "metadata": {},
   "outputs": [],
   "source": [
    "# X = select_features(X)"
   ]
  },
  {
   "cell_type": "markdown",
   "metadata": {},
   "source": [
    "### Test Various Models"
   ]
  },
  {
   "cell_type": "markdown",
   "metadata": {},
   "source": [
    "https://scikit-learn.org/stable/supervised_learning.html"
   ]
  },
  {
   "cell_type": "code",
   "execution_count": 13,
   "metadata": {},
   "outputs": [
    {
     "name": "stdout",
     "output_type": "stream",
     "text": [
      "Model (R2, MSE, MAE)\n",
      "MLPRegressor (0.709865740960103, 0.7904980583169863, 0.27896237331573837, 0.3618364570275143)\n",
      "KernelRidge (-4.067673242737092, -2.607264361717011, 4.803253943318696, 2.0707386197116935)\n",
      "SVR (0.6679205432667834, 0.7502397399037284, 0.33256834927970075, 0.38163177724948144)\n",
      "SGDRegressor (-1084537.3582584884, -37366.233005750706, 49756.35032203417, 30.72699562548284)\n",
      "KNeighborsRegressor (0.523725587205614, 0.7985691404441083, 0.26821532148738403, 0.3503088939922481)\n",
      "GaussianProcessRegressor (-14575.24915377559, 0.9995291084260609, 0.0006270158165846033, 0.006442707849047219)\n",
      "PLSRegression (0.4544166266489375, 0.5266352328073278, 0.6303089978035576, 0.5891030625492538)\n",
      "DecisionTreeRegressor (0.34743780154906967, 1.0, 1.0338511378986614e-31, 4.333312348052452e-17)\n"
     ]
    }
   ],
   "source": [
    "# Test Regression Models\n",
    "\n",
    "model_input = X\n",
    "model_output = y\n",
    "\n",
    "MLPRegressor_model = MLPRegressor(max_iter=500)\n",
    "KernelRidge_model = KernelRidge()\n",
    "SVR_model = SVR()\n",
    "SGDRegressor_model = SGDRegressor()\n",
    "KNeighborsRegressor_model = KNeighborsRegressor()\n",
    "GaussianProcessRegressor_model = GaussianProcessRegressor()\n",
    "PLSRegression_model = PLSRegression()\n",
    "DecisionTreeRegressor_model = DecisionTreeRegressor()\n",
    "\n",
    "regression_models = [MLPRegressor_model, KernelRidge_model, SVR_model, \n",
    "                    SGDRegressor_model, KNeighborsRegressor_model, GaussianProcessRegressor_model, \n",
    "                    PLSRegression_model, DecisionTreeRegressor_model]\n",
    "\n",
    "print(\"Model (Cross Validation, R2, MSE, MAE)\")\n",
    "for model in regression_models:\n",
    "    print(str(model)[:str(model).index(\"(\")], evaluate_regression_model(model, model_input, model_output))"
   ]
  },
  {
   "cell_type": "code",
   "execution_count": 14,
   "metadata": {},
   "outputs": [
    {
     "name": "stdout",
     "output_type": "stream",
     "text": [
      "0.553037297534787 0.606232555185614 0.5243211593050423 0.5311589374967698\n",
      "0.7243786052474678\n"
     ]
    }
   ],
   "source": [
    "# Test Bayesian Ridge Regression Model\n",
    "\n",
    "model_input = X\n",
    "model_output = y\n",
    "\n",
    "BayesianRidge_model = BayesianRidge(n_iter=500)\n",
    "\n",
    "BayesianRidge_model.fit(model_input, model_output)\n",
    "y_pred = BayesianRidge_model.predict(model_input, return_std=True)\n",
    "\n",
    "cross_val = statistics.mean(cross_val_score(BayesianRidge_model, model_input, model_output, cv=5))\n",
    "r2 = metrics.r2_score(model_output, y_pred[0])\n",
    "mse = metrics.mean_squared_error(model_output, y_pred[0]) \n",
    "mae = metrics.mean_absolute_error(model_output, y_pred[0])\n",
    "\n",
    "print(cross_val, r2, mse, mae) # regression results\n",
    "print(statistics.mean(y_pred[1])) # standard deviation for each prediction"
   ]
  },
  {
   "cell_type": "code",
   "execution_count": 15,
   "metadata": {},
   "outputs": [
    {
     "name": "stdout",
     "output_type": "stream",
     "text": [
      "Model (Accuracy, Precision, Recall)\n",
      "MLPClassifier (0.4994186046511628, 0.5432170542635659, 0.5350961184355896, 0.6998362392833061)\n",
      "SVC (0.4987403100775194, 0.525484496124031, 0.5183770584183833, 0.7975146902995858)\n",
      "SGDClassifier (0.5034883720930232, 0.4935562015503876, 0.49438727782974745, 0.3054619015509103)\n",
      "KNeighborsClassifier (0.5010174418604652, 0.6881298449612403, 0.688096146508966, 0.6949234177824872)\n",
      "NearestCentroid (0.5032461240310078, 0.5079457364341086, 0.5093508436538942, 0.5903092187650515)\n",
      "GaussianProcessClassifier (0.4950096899224806, 0.5762596899224807, 0.5730236712818222, 0.617955880936326)\n",
      "DecisionTreeClassifier (0.4936531007751938, 1.0, 1.0, 1.0)\n"
     ]
    }
   ],
   "source": [
    "# Test Classification Models\n",
    "\n",
    "model_input = X\n",
    "model_output = [random.randint(0,1) for _ in range(len(y))]\n",
    "\n",
    "MLPClassifier_model = MLPClassifier()\n",
    "SVC_model = SVC()\n",
    "SGDClassifier_model = SGDClassifier()\n",
    "KNeighborsClassifier_model = KNeighborsClassifier()\n",
    "NearestCentroid_model = NearestCentroid()\n",
    "GaussianProcessClassifier_model = GaussianProcessClassifier()\n",
    "DecisionTreeClassifier_model = DecisionTreeClassifier()\n",
    "\n",
    "classification_models = [MLPClassifier_model, SVC_model, SGDClassifier_model, KNeighborsClassifier_model, \n",
    "                        NearestCentroid_model, GaussianProcessClassifier_model, DecisionTreeClassifier_model]\n",
    "\n",
    "print(\"Model (Cross Validation, Accuracy, Precision, Recall)\")\n",
    "for model in classification_models:\n",
    "    print(str(model)[:str(model).index(\"(\")], evaluate_classification_model(model, model_input, model_output))"
   ]
  },
  {
   "cell_type": "markdown",
   "metadata": {},
   "source": [
    "### Make Predictions"
   ]
  },
  {
   "cell_type": "code",
   "execution_count": 16,
   "metadata": {},
   "outputs": [
    {
     "name": "stdout",
     "output_type": "stream",
     "text": [
      "15.87%\n"
     ]
    }
   ],
   "source": [
    "# Regression-Based (Estimate, Mean Error, Standard Deviation Error)\n",
    "\n",
    "model_input = X\n",
    "model_output = y\n",
    "model = MLPRegressor_model\n",
    "\n",
    "model_predictions = model.predict(model_input)\n",
    "errors = model_predictions - model_output\n",
    "mean_error = statistics.mean(errors)\n",
    "stdev_error = statistics.stdev(errors)\n",
    "\n",
    "print(str(round(regression_probability(25, 24, 0, 1)*100, 2)) + \"%\") # probability of over"
   ]
  },
  {
   "cell_type": "code",
   "execution_count": 17,
   "metadata": {},
   "outputs": [
    {
     "data": {
      "text/plain": [
       "(array([0.01575169, 0.01794959, 0.02381069, 0.03882974, 0.04102764,\n",
       "        0.0542151 , 0.06007619, 0.07399629, 0.11282602, 0.14762626,\n",
       "        0.22748364, 0.3150337 , 0.4575315 , 0.73886392, 1.0132363 ,\n",
       "        1.22167139, 1.03375012, 0.73300283, 0.46705578, 0.27254078,\n",
       "        0.17400117, 0.09670802, 0.06154147, 0.03919605, 0.02271173,\n",
       "        0.01538537, 0.01172218, 0.00659373, 0.0040295 , 0.00183159]),\n",
       " array([-2.        , -1.86666667, -1.73333333, -1.6       , -1.46666667,\n",
       "        -1.33333333, -1.2       , -1.06666667, -0.93333333, -0.8       ,\n",
       "        -0.66666667, -0.53333333, -0.4       , -0.26666667, -0.13333333,\n",
       "         0.        ,  0.13333333,  0.26666667,  0.4       ,  0.53333333,\n",
       "         0.66666667,  0.8       ,  0.93333333,  1.06666667,  1.2       ,\n",
       "         1.33333333,  1.46666667,  1.6       ,  1.73333333,  1.86666667,\n",
       "         2.        ]),\n",
       " <BarContainer object of 30 artists>)"
      ]
     },
     "execution_count": 17,
     "metadata": {},
     "output_type": "execute_result"
    },
    {
     "data": {
      "image/png": "[encoded data removed]",
      "text/plain": [
       "<Figure size 432x288 with 1 Axes>"
      ]
     },
     "metadata": {
      "needs_background": "light"
     },
     "output_type": "display_data"
    }
   ],
   "source": [
    "# Plot histogram of errors to assess normality\n",
    "\n",
    "plt.hist(errors, density=True, bins=30, range=(-2, 2))"
   ]
  },
  {
   "cell_type": "code",
   "execution_count": 18,
   "metadata": {},
   "outputs": [],
   "source": [
    "# Bayesian-Regression Based (Estimate, Probability)"
   ]
  },
  {
   "cell_type": "code",
   "execution_count": 19,
   "metadata": {},
   "outputs": [],
   "source": [
    "# Classification-Based (Class, Probability)\n",
    "\n",
    "model_input = X\n",
    "model_output = [1] * len(y)\n",
    "\n",
    "model = MLPClassifier_model\n",
    "model_predictions = model.predict(model_input)\n",
    "model_probabilities = [round(vals[0]*100, 2) for vals in model.predict_proba(model_input)] # could be vals[1]"
   ]
  },
  {
   "cell_type": "markdown",
   "metadata": {},
   "source": [
    "### Strategies"
   ]
  },
  {
   "cell_type": "markdown",
   "metadata": {},
   "source": [
    "1. Profitability (calculate bet EV based on betting odds + probability estimation)\n",
    "2. Probability (anything above a probability threshold)"
   ]
  }
 ],
 "metadata": {
  "kernelspec": {
   "display_name": "Python 3",
   "language": "python",
   "name": "python3"
  },
  "language_info": {
   "codemirror_mode": {
    "name": "ipython",
    "version": 3
   },
   "file_extension": ".py",
   "mimetype": "text/x-python",
   "name": "python",
   "nbconvert_exporter": "python",
   "pygments_lexer": "ipython3",
   "version": "3.8.5"
  }
 },
 "nbformat": 4,
 "nbformat_minor": 4
}
